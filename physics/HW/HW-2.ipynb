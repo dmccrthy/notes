{
 "cells": [
  {
   "cell_type": "markdown",
   "metadata": {
    "id": "rVQX2TNlE2F_"
   },
   "source": [
    "# Homework 2:\n",
    "\n",
    "By: Dan McCarthy"
   ]
  },
  {
   "cell_type": "markdown",
   "metadata": {
    "id": "-lHRoGNRE12S"
   },
   "source": [
    "## Problem 1:\n",
    "\n",
    "To find the speed needed to cover the gap we can first start bying findint the components\n",
    "\n",
    "$V_x = Vcos(30°)$\n",
    "\n",
    "$V_y = Vsin(30°) - 9.8t$\n",
    "\n",
    "$X_x = Vcos(30°)t$\n",
    "\n",
    "$X_y = Vsin(30°)t - 4.9t^2$\n",
    "\n",
    "Next we an use the vertical and horoizontal distnce covered and plug into these 2 equations.\n",
    "\n",
    "$6 = Vcos(30°)t$\n",
    "\n",
    "$\\frac{6}{0.866} = Vt$\n",
    "\n",
    "$-3 = Vsin(30°)t - 4.9t^2$\n",
    "\n",
    "$-3 = \\frac{6}{0.866}sin(30°) -4.9t^2$\n",
    "\n",
    "$-6.46 = -4.9t^2$\n",
    "\n",
    "$1.32= t^2$\n",
    "\n",
    "$t \\approx 1.15$\n",
    "\n",
    "If we take this value for t and plug it back in to are value for Vt we can find the velocity.\n",
    "\n",
    "$\\frac{6}{0.866} = 1.15V$\n",
    "\n",
    "$V \\approx 6.02$ m/s\n",
    "\n",
    "So the skater's velocity must be roughly 6.02 m/s to make it across the gap."
   ]
  },
  {
   "cell_type": "markdown",
   "metadata": {
    "id": "Fp1WbHcqMctT"
   },
   "source": [
    "## Problem 2:\n",
    "\n",
    "What we know from the start:\n",
    "\n",
    "$\\theta = 30°$\n",
    "\n",
    "$V_x = 20cos(30°)$\n",
    "\n",
    "$V_y = 20sin(30°) - 9.8t$\n",
    "\n",
    "$X_x = 20cos(30°)t$\n",
    "\n",
    "$X_y = 20sin(30°)t - 4.9t^2$\n",
    "\n",
    "To solve this problem we first need to find the time when the vertical positiion reaches 3 meters.\n",
    "\n",
    "$3 = 20sin(30°)t - 4.9t^2$\n",
    "\n",
    "$0 = -4.9t^2$ + 10t - 3$\n",
    "\n",
    "$t = \\frac{-10 \\pm \\sqrt{100 - 4(-4.9)(-3)}}{-9.8}$\n",
    "\n",
    "$t = \\frac{-10 \\pm \\sqrt{41.2}}{-9.8}$\n",
    "\n",
    "$t = \\frac{-10 \\pm 6.42}{-9.8}$\n",
    "\n",
    "$t = 1.675$\n",
    "\n",
    "The question mentions that there are 2 answers here. We can tell its the second one ($t = 1.675$) is correct as ball needs to be falling down to land in the truck. When it first passes 3 meters it still moving upward and would go over the truck.\n",
    "\n",
    "$X_x = 20cos(30°)1.675$\n",
    "\n",
    "$X_x = 33.5cos(30°)$\n",
    "\n",
    "$X_x \\approx 29$ meters\n",
    "\n",
    "The trucks is roughly 29 meters away from Stan."
   ]
  },
  {
   "cell_type": "markdown",
   "metadata": {
    "id": "rPcm0L10PaGi"
   },
   "source": [
    "## Problem 3:\n",
    "\n",
    "Below is what we know:\n",
    "\n",
    "$\\theta = 40°$\n",
    "\n",
    "$μ = 30°$\n",
    "\n",
    "$v_0 = 20m/s$\n",
    "\n",
    "Before we do anything else the first thing we need to do is break done the velocity of the ball into its components (x and y)\n",
    "\n",
    "$v_x = 20cos(40°)$\n",
    "\n",
    "$v_y = 20sin(40°)$\n",
    "\n",
    "We can then find the position of each of these:\n",
    "\n",
    "$X = 20cos(40°)t$\n",
    "\n",
    "$Y = 20sin(40°)t - 4.9t^2$\n",
    "\n",
    "Now we can get the equation for the hill. Since we know the angle this is pretty much he same thing as finding th X and Y components earlier.\n",
    "\n",
    "$y = tan(30°)x$\n",
    "\n",
    "Now we can set this equal to the Y function:\n",
    "\n",
    "$tan(30°)*20cos(40°)t = 20sin(40°)t - 4.9t^2$\n",
    "\n",
    "$8.84t = 12.85t - 4.9t^2$\n",
    "\n",
    "$0 = 4.01t - 4.9t^2$\n",
    "\n",
    "$t \\approx 0.82$\n",
    "\n",
    "With this value for t, we can plug it into the position function from earlier and find the total horizontal distance.\n",
    "\n",
    "$X = 20cos(40°)*0.82$\n",
    "\n",
    "$X \\approx 12.56$"
   ]
  },
  {
   "cell_type": "markdown",
   "metadata": {
    "id": "GdONdRin44Qj"
   },
   "source": [
    "## Problem 4:\n",
    "\n",
    "A: $y = -x^2 + 2x + 3$\n",
    "\n",
    "X Intercept(s):\n",
    "\n",
    "$0 = -x^2 + 2x + 3$\n",
    "\n",
    "$0 = (-x^2 + 3x) + (-x+3)$\n",
    "\n",
    "$x = -1$ or $3$\n",
    "\n",
    "Y Intercept(s):\n",
    "\n",
    "$y = 0 + 2(0) + 3$\n",
    "\n",
    "$y = 3$\n",
    "\n",
    "Vertex:\n",
    "\n",
    "$x = \\frac{-b}{2a}$\n",
    "\n",
    "$x = \\frac{-2}{-2}$\n",
    "\n",
    "$x = 1$\n",
    "\n",
    "$y = -1 + 2 + 3$\n",
    "\n",
    "$y = 4$ or (1, 4)\n",
    "\n",
    "Axis of symmetry:\n",
    "\n",
    "$x = 1$\n",
    "\n",
    "*This is just the line that intersects the vertex*\n",
    "\n",
    "\n",
    "Graph of Function (Below)\n"
   ]
  },
  {
   "cell_type": "code",
   "execution_count": 15,
   "metadata": {
    "colab": {
     "base_uri": "https://localhost:8080/",
     "height": 430
    },
    "executionInfo": {
     "elapsed": 91,
     "status": "ok",
     "timestamp": 1750114139062,
     "user": {
      "displayName": "Daniel McCarthy",
      "userId": "18342456514224569737"
     },
     "user_tz": 240
    },
    "id": "7FvIoVUF6BQt",
    "outputId": "75c0403f-df58-4b6c-8d0e-5c6adfd95b27"
   },
   "outputs": [
    {
     "data": {
      "image/png": "[encoded data removed]",
      "text/plain": [
       "<Figure size 640x480 with 1 Axes>"
      ]
     },
     "metadata": {},
     "output_type": "display_data"
    }
   ],
   "source": [
    "import matplotlib.pyplot as plt\n",
    "import numpy as np\n",
    "\n",
    "# setting the x - coordinates\n",
    "x = np.arange(-6, 8, 0.1)\n",
    "# setting the corresponding y - coordinates\n",
    "y1 = -1*(x*x) + 2*x + 3\n",
    "\n",
    "# Plot them\n",
    "plt.plot(x, y1, 'r')\n",
    "plt.show()"
   ]
  },
  {
   "cell_type": "markdown",
   "metadata": {
    "id": "-oROh8TY6Bl9"
   },
   "source": [
    "B:\n",
    "\n",
    "$\\frac{2}{3}x + \\frac{7}{3} = y$\n",
    "\n",
    "$-x^2 + 2x + 5 = \\frac{2}{3}x + \\frac{7}{3}$\n",
    "\n",
    "$0 = 3x^2 - 4x - 4$\n",
    "\n",
    "$x = \\frac{4 \\pm \\sqrt{16 + 48}}{6}$\n",
    "\n",
    "$x = \\frac{4 \\pm 8}{6}$\n",
    "\n",
    "$x = 2, \\frac{-2}{3}$\n",
    "\n",
    "Plug in to find Y values:\n",
    "\n",
    "$y = 7/3 - 4/3$\n",
    "\n",
    "$y = 1$ or (2, 1)\n",
    "\n",
    "$y = 7/3 + 4/9$\n",
    "\n",
    "$y = \\frac{25}{9}$ or ($\\frac{-2}{3}, \\frac{25}{9}$)\n",
    "\n",
    "Graph of functon (Below)"
   ]
  },
  {
   "cell_type": "code",
   "execution_count": 14,
   "metadata": {
    "colab": {
     "base_uri": "https://localhost:8080/",
     "height": 432
    },
    "executionInfo": {
     "elapsed": 111,
     "status": "ok",
     "timestamp": 1750114123446,
     "user": {
      "displayName": "Daniel McCarthy",
      "userId": "18342456514224569737"
     },
     "user_tz": 240
    },
    "id": "wMW5Ogj56KQ0",
    "outputId": "b6f49c15-8ced-4e7c-9ec9-9b6e1497125e"
   },
   "outputs": [
    {
     "data": {
      "image/png": "[encoded data removed]",
      "text/plain": [
       "<Figure size 640x480 with 1 Axes>"
      ]
     },
     "metadata": {},
     "output_type": "display_data"
    }
   ],
   "source": [
    "import matplotlib.pyplot as plt\n",
    "import numpy as np\n",
    "\n",
    "# setting the x - coordinates\n",
    "x = np.arange(-2, 3, 0.1)\n",
    "# setting the corresponding y - coordinates\n",
    "y1 = -2*(x*x) + 2*x + 5\n",
    "y2 = (-2/3)*x + (7/3)\n",
    "\n",
    "# Plot them\n",
    "plt.plot(x, y1, 'r')\n",
    "plt.plot(x, y2, 'b')\n",
    "plt.show()"
   ]
  },
  {
   "cell_type": "markdown",
   "metadata": {
    "id": "0JKNFO3t6KiZ"
   },
   "source": [
    "C:\n",
    "\n",
    "$y = -2x^2 + bx + c$\n",
    "\n",
    "This is pretty much just a system of equations:\n",
    "\n",
    "$-5 = -2 - b  + c$\n",
    "\n",
    "and\n",
    "\n",
    "$10 = -8 + 2b + c$\n",
    "\n",
    "We can get $b = c + 3$, which we can then plug in:\n",
    "\n",
    "$10 = -8 + 2(c + 3) + c$\n",
    "\n",
    "$12 = 3c$\n",
    "\n",
    "$c = 4$\n",
    "\n",
    "Plug in c to find the value for b:\n",
    "\n",
    "$b = 4 + 3$\n",
    "\n",
    "$b = 7$\n",
    "\n",
    "So our equations is:\n",
    "\n",
    "$y = -2x^2 + 7x + 4$\n",
    "\n",
    "\n",
    "Graph is below"
   ]
  },
  {
   "cell_type": "code",
   "execution_count": 24,
   "metadata": {
    "colab": {
     "base_uri": "https://localhost:8080/",
     "height": 430
    },
    "executionInfo": {
     "elapsed": 103,
     "status": "ok",
     "timestamp": 1750114970096,
     "user": {
      "displayName": "Daniel McCarthy",
      "userId": "18342456514224569737"
     },
     "user_tz": 240
    },
    "id": "Bcw5EfBf7xh7",
    "outputId": "1c64bacf-9925-4fc5-ceaf-1b1e9d3a04b0"
   },
   "outputs": [
    {
     "data": {
      "image/png": "[encoded data removed]",
      "text/plain": [
       "<Figure size 640x480 with 1 Axes>"
      ]
     },
     "metadata": {},
     "output_type": "display_data"
    }
   ],
   "source": [
    "import matplotlib.pyplot as plt\n",
    "import numpy as np\n",
    "\n",
    "# setting the x - coordinates\n",
    "x = np.arange(-2, 3, 0.1)\n",
    "# setting the corresponding y - coordinates\n",
    "y1 = -2*(x*x) + 7*x + 4\n",
    "\n",
    "# Plot them\n",
    "plt.plot(x, y1, 'r')\n",
    "\n",
    "# points\n",
    "plt.plot(-1, -5,'ro')\n",
    "plt.plot(2, 10,'ro')\n",
    "plt.show()"
   ]
  },
  {
   "cell_type": "markdown",
   "metadata": {
    "id": "aXFbkv_x8T4I"
   },
   "source": [
    "D:\n",
    "\n",
    "$y = ax^2 + x$ and $y = 3x + 1$\n",
    "\n",
    "We can start by setting the equations equal to eachother as this will be where they overlap.\n",
    "\n",
    "$ax^2 + x = 3x + 1$\n",
    "\n",
    "Its also important to note that when these to functions overlapp they will have the same slope. This means we can take the derivative of each like so:\n",
    "\n",
    "$2ax + 1 = 3$\n",
    "\n",
    "$a = \\frac{1}{x}$\n",
    "\n",
    "This gives us a value of a we can plug into.\n",
    "\n",
    "$2x = 3x + 1$\n",
    "\n",
    "$x = -1$\n",
    "\n",
    "This value works for the $a$ in the function. Which means the answer is.\n",
    "\n",
    "$y = -x^2 + x$\n",
    "\n",
    "When we plot this below using matplotlib we can see its correct.\n",
    "\n",
    "\n"
   ]
  },
  {
   "cell_type": "code",
   "execution_count": 33,
   "metadata": {
    "colab": {
     "base_uri": "https://localhost:8080/",
     "height": 430
    },
    "executionInfo": {
     "elapsed": 161,
     "status": "ok",
     "timestamp": 1750118074393,
     "user": {
      "displayName": "Daniel McCarthy",
      "userId": "18342456514224569737"
     },
     "user_tz": 240
    },
    "id": "fCTaR_nU8VPV",
    "outputId": "9b9b005a-f2e4-44b9-9019-22ab0c7da6a0"
   },
   "outputs": [
    {
     "data": {
      "image/png": "[encoded data removed]",
      "text/plain": [
       "<Figure size 640x480 with 1 Axes>"
      ]
     },
     "metadata": {},
     "output_type": "display_data"
    }
   ],
   "source": [
    "import matplotlib.pyplot as plt\n",
    "import numpy as np\n",
    "\n",
    "# setting the x - coordinates\n",
    "x = np.arange(-4, 3, 0.1)\n",
    "# setting the corresponding y - coordinates\n",
    "y1 = -1*(x*x) + x\n",
    "y2 =  3*x + 1\n",
    "\n",
    "# Plot them\n",
    "plt.plot(x, y1, 'r')\n",
    "plt.plot(x, y2, 'b')\n",
    "plt.show()"
   ]
  },
  {
   "cell_type": "markdown",
   "metadata": {
    "id": "MdW7dMoM8Wsm"
   },
   "source": [
    "E:\n",
    "\n",
    "The answer is below. This is just a matter of applying horizontal and vertical shifts, as well as adding the negative to reflect it.\n",
    "\n",
    "$y = -(x + 3)^2 + 4$\n"
   ]
  }
 ],
 "metadata": {
  "colab": {
   "authorship_tag": "ABX9TyOL9vIZaWVRnHDABJG4Iul7",
   "provenance": []
  },
  "kernelspec": {
   "display_name": "Python 3",
   "name": "python3"
  },
  "language_info": {
   "name": "python"
  }
 },
 "nbformat": 4,
 "nbformat_minor": 0
}
